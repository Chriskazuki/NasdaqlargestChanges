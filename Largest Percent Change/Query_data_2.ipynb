{
 "cells": [
  {
   "cell_type": "code",
   "execution_count": null,
   "metadata": {
    "vscode": {
     "languageId": "plaintext"
    }
   },
   "outputs": [],
   "source": [
    "# Importation des bibliothèques nécessaires\n",
    "import requests\n",
    "from bs4 import BeautifulSoup\n",
    "import json\n",
    "\n",
    "# Fonction pour récupérer les données du Nasdaq\n",
    "def scrape_nasdaq_data(url):\n",
    "    response = requests.get(url)\n",
    "    soup = BeautifulSoup(response.content, 'html.parser')\n",
    "\n",
    "    tables = soup.find_all('table', class_='wikitable')\n",
    "    \n",
    "    data = {\n",
    "        \"largest_gains\": [],\n",
    "        \"largest_losses\": []\n",
    "    }\n",
    "\n",
    "    for i, table in enumerate(tables[:2]):  # We only need the first two tables\n",
    "        rows = table.find_all('tr')[1:]  # Skip the header row\n",
    "        for row in rows:\n",
    "            cells = row.find_all('td')\n",
    "            if len(cells) == 5:\n",
    "                entry = {\n",
    "                    \"rank\": cells[0].text.strip(),\n",
    "                    \"date\": cells[1].text.strip(),\n",
    "                    \"close\": cells[2].text.strip(),\n",
    "                    \"net_change\": cells[3].text.strip(),\n",
    "                    \"percent_change\": cells[4].text.strip()\n",
    "                }\n",
    "                if i == 0:\n",
    "                    data[\"largest_gains\"].append(entry)\n",
    "                else:\n",
    "                    data[\"largest_losses\"].append(entry)\n",
    "\n",
    "    return data\n",
    "\n",
    "# Fonction pour sauvegarder les données en JSON\n",
    "def save_to_json(data, filename):\n",
    "    with open(filename, 'w') as f:\n",
    "        json.dump(data, f, indent=2)\n",
    "    print(f\"Data has been saved to {filename}\")\n",
    "\n",
    "# URL de la page Wikipedia\n",
    "url = \"https://en.wikipedia.org/wiki/List_of_largest_daily_changes_in_the_Nasdaq_Composite\"\n",
    "\n",
    "# Récupération des données\n",
    "nasdaq_data = scrape_nasdaq_data(url)\n",
    "\n",
    "# Affichage des premières entrées pour vérification\n",
    "print(\"Largest gains (first 3):\")\n",
    "print(json.dumps(nasdaq_data[\"largest_gains\"][:3], indent=2))\n",
    "\n",
    "print(\"\\nLargest losses (first 3):\")\n",
    "print(json.dumps(nasdaq_data[\"largest_losses\"][:3], indent=2))\n",
    "\n",
    "# Sauvegarde des données (optionnel)\n",
    "# Décommentez la ligne suivante si vous voulez sauvegarder les données\n",
    "# save_to_json(nasdaq_data, \"nasdaq_largest_changes.json\")"
   ]
  }
 ],
 "metadata": {
  "kernelspec": {
   "display_name": ".venv",
   "language": "python",
   "name": "python3"
  },
  "language_info": {
   "codemirror_mode": {
    "name": "ipython",
    "version": 3
   },
   "file_extension": ".py",
   "mimetype": "text/x-python",
   "name": "python",
   "nbconvert_exporter": "python",
   "pygments_lexer": "ipython3",
   "version": "3.12.4"
  },
  "orig_nbformat": 4
 },
 "nbformat": 4,
 "nbformat_minor": 2
}

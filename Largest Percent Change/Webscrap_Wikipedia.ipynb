{
 "cells": [
  {
   "cell_type": "code",
   "execution_count": 1,
   "metadata": {},
   "outputs": [],
   "source": [
    "import requests\n",
    "from bs4 import BeautifulSoup\n",
    "import json"
   ]
  },
  {
   "cell_type": "code",
   "execution_count": 4,
   "metadata": {},
   "outputs": [
    {
     "name": "stdout",
     "output_type": "stream",
     "text": [
      "Largest gains (first 3):\n",
      "[\n",
      "  {\n",
      "    \"rank\": \"1\",\n",
      "    \"date\": \"2001-01-03\",\n",
      "    \"close\": \"2,616.69\",\n",
      "    \"net_change\": \"+324.83\",\n",
      "    \"percent_change\": \"+14.17\"\n",
      "  },\n",
      "  {\n",
      "    \"rank\": \"2\",\n",
      "    \"date\": \"2008-10-13\",\n",
      "    \"close\": \"1,844.25\",\n",
      "    \"net_change\": \"+194.74\",\n",
      "    \"percent_change\": \"+11.81\"\n",
      "  },\n",
      "  {\n",
      "    \"rank\": \"3\",\n",
      "    \"date\": \"2000-12-05\",\n",
      "    \"close\": \"2,889.80\",\n",
      "    \"net_change\": \"+274.05\",\n",
      "    \"percent_change\": \"+10.48\"\n",
      "  }\n",
      "]\n",
      "\n",
      "Largest losses (first 3):\n",
      "[\n",
      "  {\n",
      "    \"rank\": \"1\",\n",
      "    \"date\": \"2020-03-16\",\n",
      "    \"close\": \"6,904.59\",\n",
      "    \"net_change\": \"-970.28\",\n",
      "    \"percent_change\": \"-12.32\"\n",
      "  },\n",
      "  {\n",
      "    \"rank\": \"2\",\n",
      "    \"date\": \"1987-10-19\",\n",
      "    \"close\": \"360.20\",\n",
      "    \"net_change\": \"-46.10\",\n",
      "    \"percent_change\": \"-11.35\"\n",
      "  },\n",
      "  {\n",
      "    \"rank\": \"3\",\n",
      "    \"date\": \"2000-04-14\",\n",
      "    \"close\": \"3,321.29\",\n",
      "    \"net_change\": \"-355.49\",\n",
      "    \"percent_change\": \"-9.67\"\n",
      "  }\n",
      "]\n",
      "Data has been saved to nasdaq_largest_changes.json\n"
     ]
    }
   ],
   "source": [
    "import requests\n",
    "from bs4 import BeautifulSoup\n",
    "import json\n",
    "\n",
    "def scrape_nasdaq_data(url):\n",
    "    response = requests.get(url)\n",
    "    soup = BeautifulSoup(response.content, 'html.parser')\n",
    "\n",
    "    tables = soup.find_all('table', class_='wikitable')\n",
    "    \n",
    "    data = {\n",
    "        \"largest_gains\": [],\n",
    "        \"largest_losses\": []\n",
    "    }\n",
    "\n",
    "    for i, table in enumerate(tables[:2]):  # We only need the first two tables\n",
    "        rows = table.find_all('tr')[1:]  # Skip the header row\n",
    "        for row in rows:\n",
    "            cells = row.find_all('td')\n",
    "            if len(cells) == 5:\n",
    "                entry = {\n",
    "                    \"rank\": cells[0].text.strip(),\n",
    "                    \"date\": cells[1].text.strip(),\n",
    "                    \"close\": cells[2].text.strip(),\n",
    "                    \"net_change\": cells[3].text.strip().replace('\\u2212', '-'),  # Replace Unicode minus\n",
    "                    \"percent_change\": cells[4].text.strip().replace('\\u2212', '-')  # Replace Unicode minus\n",
    "                }\n",
    "                if i == 0:\n",
    "                    data[\"largest_gains\"].append(entry)\n",
    "                else:\n",
    "                    data[\"largest_losses\"].append(entry)\n",
    "\n",
    "    return data\n",
    "\n",
    "def save_to_json(data, filename):\n",
    "    with open(filename, 'w', encoding='utf-8') as f:\n",
    "        json.dump(data, f, indent=2, ensure_ascii=False)\n",
    "    print(f\"Data has been saved to {filename}\")\n",
    "\n",
    "# URL de la page Wikipedia\n",
    "url = \"https://en.wikipedia.org/wiki/List_of_largest_daily_changes_in_the_Nasdaq_Composite\"\n",
    "\n",
    "# Récupération des données\n",
    "nasdaq_data = scrape_nasdaq_data(url)\n",
    "\n",
    "# Affichage des premières entrées pour vérification\n",
    "print(\"Largest gains (first 3):\")\n",
    "print(json.dumps(nasdaq_data[\"largest_gains\"][:3], indent=2, ensure_ascii=False))\n",
    "\n",
    "print(\"\\nLargest losses (first 3):\")\n",
    "print(json.dumps(nasdaq_data[\"largest_losses\"][:3], indent=2, ensure_ascii=False))\n",
    "\n",
    "# Sauvegarde des données\n",
    "save_to_json(nasdaq_data, \"nasdaq_largest_changes.json\")"
   ]
  },
  {
   "cell_type": "code",
   "execution_count": 5,
   "metadata": {},
   "outputs": [
    {
     "name": "stdout",
     "output_type": "stream",
     "text": [
      "Data has been saved to nasdaq_largest_changes.json\n"
     ]
    }
   ],
   "source": [
    "save_to_json(nasdaq_data, \"nasdaq_largest_changes.json\")"
   ]
  },
  {
   "cell_type": "code",
   "execution_count": null,
   "metadata": {},
   "outputs": [],
   "source": []
  }
 ],
 "metadata": {
  "kernelspec": {
   "display_name": "venv",
   "language": "python",
   "name": "python3"
  },
  "language_info": {
   "codemirror_mode": {
    "name": "ipython",
    "version": 3
   },
   "file_extension": ".py",
   "mimetype": "text/x-python",
   "name": "python",
   "nbconvert_exporter": "python",
   "pygments_lexer": "ipython3",
   "version": "3.11.4"
  },
  "orig_nbformat": 4
 },
 "nbformat": 4,
 "nbformat_minor": 2
}
